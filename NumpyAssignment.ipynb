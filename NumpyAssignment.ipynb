{
 "cells": [
  {
   "cell_type": "code",
   "execution_count": 2,
   "id": "a996dfca",
   "metadata": {},
   "outputs": [
    {
     "name": "stdout",
     "output_type": "stream",
     "text": [
      "Mean : 166.7, Median: 166.5, Standard deviation: 7.5372408744845085\n"
     ]
    }
   ],
   "source": [
    "import numpy as np\n",
    "\n",
    "heights = np.array([160, 155, 172, 165, 180, 158, 175, 163, 171, 168])\n",
    "\n",
    "#calculating the mean,median and standard deviation\n",
    "\n",
    "stu_mean = np.mean(heights)\n",
    "stu_median = np.median(heights)\n",
    "stu_dev = np.std(heights)\n",
    "\n",
    "print(f\"Mean : {stu_mean}, Median: {stu_median}, Standard deviation: {stu_dev}\")"
   ]
  },
  {
   "cell_type": "code",
   "execution_count": 4,
   "id": "a8c229f8",
   "metadata": {},
   "outputs": [
    {
     "name": "stdout",
     "output_type": "stream",
     "text": [
      "Normailized heights : [-0.86238454 -1.52575726  0.72970999 -0.19901182  1.79110635 -1.12773363\n",
      "  1.12773363 -0.46436091  0.59703545  0.19901182]\n"
     ]
    }
   ],
   "source": [
    "#Create a new array with the heights normalized\n",
    "height_normalized = (heights - stu_median)/stu_dev\n",
    "print(f\"Normailized heights : {height_normalized}\")"
   ]
  },
  {
   "cell_type": "code",
   "execution_count": 7,
   "id": "53730c38",
   "metadata": {},
   "outputs": [
    {
     "name": "stdout",
     "output_type": "stream",
     "text": [
      "The tallest student height is in: 4 position, the shortest student height is in: 1 position\n"
     ]
    }
   ],
   "source": [
    "#the tallest and shortest students in the class\n",
    "tallest_student = np.argmax(heights)\n",
    "shortest_student = np.argmin(heights)\n",
    "\n",
    "print(f\"The tallest student height is in index: {tallest_student} , the shortest student height is in index: {shortest_student}\")"
   ]
  },
  {
   "cell_type": "code",
   "execution_count": 9,
   "id": "406902bd",
   "metadata": {},
   "outputs": [
    {
     "name": "stdout",
     "output_type": "stream",
     "text": [
      "The difference between the tallest and shortest students' heights is 25\n"
     ]
    }
   ],
   "source": [
    "#Calculate the difference between the tallest and shortest students' heights\n",
    "\n",
    "difference = heights[tallest_student]- heights[shortest_student]\n",
    "print(f\"The difference between the tallest and shortest students' heights is {difference}\")"
   ]
  },
  {
   "cell_type": "code",
   "execution_count": 11,
   "id": "f2453d64",
   "metadata": {},
   "outputs": [
    {
     "name": "stdout",
     "output_type": "stream",
     "text": [
      "Randomly selected 5 heights are : [163 168 172 160 171]\n"
     ]
    }
   ],
   "source": [
    "#Randomly select 5 heights from the dataset without replacement\n",
    "random_select = np.random.choice(heights, size=5, replace=False)\n",
    "print(f\"Randomly selected 5 heights are : {random_select}\")"
   ]
  },
  {
   "cell_type": "code",
   "execution_count": null,
   "id": "6b5083d3",
   "metadata": {},
   "outputs": [],
   "source": []
  }
 ],
 "metadata": {
  "kernelspec": {
   "display_name": "Python 3 (ipykernel)",
   "language": "python",
   "name": "python3"
  },
  "language_info": {
   "codemirror_mode": {
    "name": "ipython",
    "version": 3
   },
   "file_extension": ".py",
   "mimetype": "text/x-python",
   "name": "python",
   "nbconvert_exporter": "python",
   "pygments_lexer": "ipython3",
   "version": "3.11.5"
  }
 },
 "nbformat": 4,
 "nbformat_minor": 5
}
